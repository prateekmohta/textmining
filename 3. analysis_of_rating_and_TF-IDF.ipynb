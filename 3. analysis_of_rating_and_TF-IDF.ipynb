{
 "cells": [
  {
   "cell_type": "code",
   "execution_count": 1,
   "metadata": {
    "collapsed": true
   },
   "outputs": [],
   "source": [
    "#to combine seperate csv files into one\n",
    "#import glob\n",
    "#import os\n",
    "import pandas as pd\n",
    "\n",
    "\n",
    "#path =r'C:\\Users\\Lenovo\\Desktop\\BT4222\\Project\\data\\App_Review'\n",
    "#allfiles = glob.glob(os.path.join(path, \"*.csv\"))\n",
    "#df = pd.concat((pd.read_csv(f) for f in allfiles))\n",
    "#df.to_csv(\"reviews.csv\", encoding='utf-8', index=False)\n",
    "\n",
    "path = './reviews.csv'\n",
    "df = pd.read_csv(path)"
   ]
  },
  {
   "cell_type": "code",
   "execution_count": 2,
   "metadata": {},
   "outputs": [
    {
     "data": {
      "text/html": [
       "<div>\n",
       "<style>\n",
       "    .dataframe thead tr:only-child th {\n",
       "        text-align: right;\n",
       "    }\n",
       "\n",
       "    .dataframe thead th {\n",
       "        text-align: left;\n",
       "    }\n",
       "\n",
       "    .dataframe tbody tr th {\n",
       "        vertical-align: top;\n",
       "    }\n",
       "</style>\n",
       "<table border=\"1\" class=\"dataframe\">\n",
       "  <thead>\n",
       "    <tr style=\"text-align: right;\">\n",
       "      <th></th>\n",
       "      <th>App_Title</th>\n",
       "      <th>Date</th>\n",
       "      <th>Rating</th>\n",
       "      <th>Review_Helpful</th>\n",
       "      <th>Review_Text</th>\n",
       "      <th>User_Name</th>\n",
       "    </tr>\n",
       "  </thead>\n",
       "  <tbody>\n",
       "    <tr>\n",
       "      <th>0</th>\n",
       "      <td>Shall we date?WizardessHeart+</td>\n",
       "      <td>February 26, 2018</td>\n",
       "      <td>3</td>\n",
       "      <td>14</td>\n",
       "      <td>This game is good and the story was interestin...</td>\n",
       "      <td>Nur Aisha</td>\n",
       "    </tr>\n",
       "    <tr>\n",
       "      <th>1</th>\n",
       "      <td>Shall we date?WizardessHeart+</td>\n",
       "      <td>March 22, 2018</td>\n",
       "      <td>2</td>\n",
       "      <td>11</td>\n",
       "      <td>Rather then an actual chapter as in some other...</td>\n",
       "      <td>Jessica Claxton</td>\n",
       "    </tr>\n",
       "    <tr>\n",
       "      <th>2</th>\n",
       "      <td>Shall we date?WizardessHeart+</td>\n",
       "      <td>March 16, 2018</td>\n",
       "      <td>5</td>\n",
       "      <td>15</td>\n",
       "      <td>I loved it , it is so addicting and the charac...</td>\n",
       "      <td>Kiki Dillman</td>\n",
       "    </tr>\n",
       "    <tr>\n",
       "      <th>3</th>\n",
       "      <td>Shall we date?WizardessHeart+</td>\n",
       "      <td>March 26, 2018</td>\n",
       "      <td>1</td>\n",
       "      <td>1</td>\n",
       "      <td>I've commented before about this but I despera...</td>\n",
       "      <td>elysian</td>\n",
       "    </tr>\n",
       "    <tr>\n",
       "      <th>4</th>\n",
       "      <td>Shall we date?WizardessHeart+</td>\n",
       "      <td>February 26, 2018</td>\n",
       "      <td>3</td>\n",
       "      <td>14</td>\n",
       "      <td>This game is good and the story was interestin...</td>\n",
       "      <td>Nur Aisha</td>\n",
       "    </tr>\n",
       "  </tbody>\n",
       "</table>\n",
       "</div>"
      ],
      "text/plain": [
       "                       App_Title               Date  Rating  Review_Helpful  \\\n",
       "0  Shall we date?WizardessHeart+  February 26, 2018       3              14   \n",
       "1  Shall we date?WizardessHeart+     March 22, 2018       2              11   \n",
       "2  Shall we date?WizardessHeart+     March 16, 2018       5              15   \n",
       "3  Shall we date?WizardessHeart+     March 26, 2018       1               1   \n",
       "4  Shall we date?WizardessHeart+  February 26, 2018       3              14   \n",
       "\n",
       "                                         Review_Text        User_Name  \n",
       "0  This game is good and the story was interestin...        Nur Aisha  \n",
       "1  Rather then an actual chapter as in some other...  Jessica Claxton  \n",
       "2  I loved it , it is so addicting and the charac...     Kiki Dillman  \n",
       "3  I've commented before about this but I despera...          elysian  \n",
       "4  This game is good and the story was interestin...        Nur Aisha  "
      ]
     },
     "execution_count": 2,
     "metadata": {},
     "output_type": "execute_result"
    }
   ],
   "source": [
    "df.head()"
   ]
  },
  {
   "cell_type": "code",
   "execution_count": 3,
   "metadata": {},
   "outputs": [
    {
     "data": {
      "text/plain": [
       "(363129, 6)"
      ]
     },
     "execution_count": 3,
     "metadata": {},
     "output_type": "execute_result"
    }
   ],
   "source": [
    "df.shape"
   ]
  },
  {
   "cell_type": "code",
   "execution_count": 4,
   "metadata": {
    "collapsed": true
   },
   "outputs": [],
   "source": [
    "df.columns = ['title', 'date','rating','helpful','text','username']"
   ]
  },
  {
   "cell_type": "code",
   "execution_count": 5,
   "metadata": {
    "collapsed": true
   },
   "outputs": [],
   "source": [
    "df['date'] = pd.to_datetime(df['date'])"
   ]
  },
  {
   "cell_type": "code",
   "execution_count": 6,
   "metadata": {
    "collapsed": true
   },
   "outputs": [],
   "source": [
    "df['text'] = df['text'].astype(str)"
   ]
  },
  {
   "cell_type": "code",
   "execution_count": 7,
   "metadata": {
    "collapsed": true
   },
   "outputs": [],
   "source": [
    "df['length'] = df.text.apply(len)"
   ]
  },
  {
   "cell_type": "code",
   "execution_count": 8,
   "metadata": {},
   "outputs": [
    {
     "data": {
      "text/plain": [
       "title               object\n",
       "date        datetime64[ns]\n",
       "rating               int64\n",
       "helpful              int64\n",
       "text                object\n",
       "username            object\n",
       "length               int64\n",
       "dtype: object"
      ]
     },
     "execution_count": 8,
     "metadata": {},
     "output_type": "execute_result"
    }
   ],
   "source": [
    "df.dtypes"
   ]
  },
  {
   "cell_type": "code",
   "execution_count": 9,
   "metadata": {},
   "outputs": [
    {
     "data": {
      "text/html": [
       "<div>\n",
       "<style>\n",
       "    .dataframe thead tr:only-child th {\n",
       "        text-align: right;\n",
       "    }\n",
       "\n",
       "    .dataframe thead th {\n",
       "        text-align: left;\n",
       "    }\n",
       "\n",
       "    .dataframe tbody tr th {\n",
       "        vertical-align: top;\n",
       "    }\n",
       "</style>\n",
       "<table border=\"1\" class=\"dataframe\">\n",
       "  <thead>\n",
       "    <tr style=\"text-align: right;\">\n",
       "      <th></th>\n",
       "      <th>title</th>\n",
       "      <th>date</th>\n",
       "      <th>rating</th>\n",
       "      <th>helpful</th>\n",
       "      <th>text</th>\n",
       "      <th>username</th>\n",
       "      <th>length</th>\n",
       "    </tr>\n",
       "  </thead>\n",
       "  <tbody>\n",
       "    <tr>\n",
       "      <th>0</th>\n",
       "      <td>Shall we date?WizardessHeart+</td>\n",
       "      <td>2018-02-26</td>\n",
       "      <td>3</td>\n",
       "      <td>14</td>\n",
       "      <td>This game is good and the story was interestin...</td>\n",
       "      <td>Nur Aisha</td>\n",
       "      <td>634</td>\n",
       "    </tr>\n",
       "    <tr>\n",
       "      <th>1</th>\n",
       "      <td>Shall we date?WizardessHeart+</td>\n",
       "      <td>2018-03-22</td>\n",
       "      <td>2</td>\n",
       "      <td>11</td>\n",
       "      <td>Rather then an actual chapter as in some other...</td>\n",
       "      <td>Jessica Claxton</td>\n",
       "      <td>701</td>\n",
       "    </tr>\n",
       "    <tr>\n",
       "      <th>2</th>\n",
       "      <td>Shall we date?WizardessHeart+</td>\n",
       "      <td>2018-03-16</td>\n",
       "      <td>5</td>\n",
       "      <td>15</td>\n",
       "      <td>I loved it , it is so addicting and the charac...</td>\n",
       "      <td>Kiki Dillman</td>\n",
       "      <td>261</td>\n",
       "    </tr>\n",
       "    <tr>\n",
       "      <th>3</th>\n",
       "      <td>Shall we date?WizardessHeart+</td>\n",
       "      <td>2018-03-26</td>\n",
       "      <td>1</td>\n",
       "      <td>1</td>\n",
       "      <td>I've commented before about this but I despera...</td>\n",
       "      <td>elysian</td>\n",
       "      <td>574</td>\n",
       "    </tr>\n",
       "    <tr>\n",
       "      <th>4</th>\n",
       "      <td>Shall we date?WizardessHeart+</td>\n",
       "      <td>2018-02-26</td>\n",
       "      <td>3</td>\n",
       "      <td>14</td>\n",
       "      <td>This game is good and the story was interestin...</td>\n",
       "      <td>Nur Aisha</td>\n",
       "      <td>634</td>\n",
       "    </tr>\n",
       "  </tbody>\n",
       "</table>\n",
       "</div>"
      ],
      "text/plain": [
       "                           title       date  rating  helpful  \\\n",
       "0  Shall we date?WizardessHeart+ 2018-02-26       3       14   \n",
       "1  Shall we date?WizardessHeart+ 2018-03-22       2       11   \n",
       "2  Shall we date?WizardessHeart+ 2018-03-16       5       15   \n",
       "3  Shall we date?WizardessHeart+ 2018-03-26       1        1   \n",
       "4  Shall we date?WizardessHeart+ 2018-02-26       3       14   \n",
       "\n",
       "                                                text         username  length  \n",
       "0  This game is good and the story was interestin...        Nur Aisha     634  \n",
       "1  Rather then an actual chapter as in some other...  Jessica Claxton     701  \n",
       "2  I loved it , it is so addicting and the charac...     Kiki Dillman     261  \n",
       "3  I've commented before about this but I despera...          elysian     574  \n",
       "4  This game is good and the story was interestin...        Nur Aisha     634  "
      ]
     },
     "execution_count": 9,
     "metadata": {},
     "output_type": "execute_result"
    }
   ],
   "source": [
    "df.head()"
   ]
  },
  {
   "cell_type": "code",
   "execution_count": 10,
   "metadata": {},
   "outputs": [
    {
     "data": {
      "text/plain": [
       "53"
      ]
     },
     "execution_count": 10,
     "metadata": {},
     "output_type": "execute_result"
    }
   ],
   "source": [
    "df.title.nunique()"
   ]
  },
  {
   "cell_type": "code",
   "execution_count": 11,
   "metadata": {},
   "outputs": [
    {
     "data": {
      "text/plain": [
       "5    0.688304\n",
       "4    0.136010\n",
       "1    0.080737\n",
       "3    0.067728\n",
       "2    0.027222\n",
       "Name: rating, dtype: float64"
      ]
     },
     "execution_count": 11,
     "metadata": {},
     "output_type": "execute_result"
    }
   ],
   "source": [
    "df.rating.value_counts()/df.rating.shape"
   ]
  },
  {
   "cell_type": "code",
   "execution_count": 12,
   "metadata": {},
   "outputs": [
    {
     "name": "stderr",
     "output_type": "stream",
     "text": [
      "C:\\Users\\Lenovo\\Anaconda3\\lib\\site-packages\\numpy\\core\\fromnumeric.py:57: FutureWarning: reshape is deprecated and will raise in a subsequent release. Please use .values.reshape(...) instead\n",
      "  return getattr(obj, method)(*args, **kwds)\n"
     ]
    },
    {
     "data": {
      "text/plain": [
       "<matplotlib.axes._subplots.AxesSubplot at 0x27de737b400>"
      ]
     },
     "execution_count": 12,
     "metadata": {},
     "output_type": "execute_result"
    },
    {
     "data": {
      "image/png": "[encoded data removed]",
      "text/plain": [
       "<matplotlib.figure.Figure at 0x27de5e18898>"
      ]
     },
     "metadata": {},
     "output_type": "display_data"
    }
   ],
   "source": [
    "# box plot of length for rating \n",
    "%matplotlib inline\n",
    "df[(df.length<1000)].boxplot('length', by='rating', rot=0, figsize=(10,6),fontsize = 15)"
   ]
  },
  {
   "cell_type": "markdown",
   "metadata": {},
   "source": [
    "### We can see that reviews with 2, 3, 4 stars generally has higher length than 1 and 5 star reviews"
   ]
  },
  {
   "cell_type": "markdown",
   "metadata": {},
   "source": [
    "# Check the overall trend of ratings over years"
   ]
  },
  {
   "cell_type": "code",
   "execution_count": 13,
   "metadata": {
    "collapsed": true
   },
   "outputs": [],
   "source": [
    "df[\"year\"]=df.date.map(lambda x: x.strftime('%Y'))"
   ]
  },
  {
   "cell_type": "code",
   "execution_count": 14,
   "metadata": {
    "collapsed": true
   },
   "outputs": [],
   "source": [
    "df[\"month\"]=df.date.map(lambda x: x.strftime('%Y-%m'))"
   ]
  },
  {
   "cell_type": "code",
   "execution_count": 15,
   "metadata": {},
   "outputs": [
    {
     "data": {
      "text/html": [
       "<div>\n",
       "<style>\n",
       "    .dataframe thead tr:only-child th {\n",
       "        text-align: right;\n",
       "    }\n",
       "\n",
       "    .dataframe thead th {\n",
       "        text-align: left;\n",
       "    }\n",
       "\n",
       "    .dataframe tbody tr th {\n",
       "        vertical-align: top;\n",
       "    }\n",
       "</style>\n",
       "<table border=\"1\" class=\"dataframe\">\n",
       "  <thead>\n",
       "    <tr style=\"text-align: right;\">\n",
       "      <th></th>\n",
       "      <th>title</th>\n",
       "      <th>date</th>\n",
       "      <th>rating</th>\n",
       "      <th>helpful</th>\n",
       "      <th>text</th>\n",
       "      <th>username</th>\n",
       "      <th>length</th>\n",
       "      <th>year</th>\n",
       "      <th>month</th>\n",
       "    </tr>\n",
       "  </thead>\n",
       "  <tbody>\n",
       "    <tr>\n",
       "      <th>0</th>\n",
       "      <td>Shall we date?WizardessHeart+</td>\n",
       "      <td>2018-02-26</td>\n",
       "      <td>3</td>\n",
       "      <td>14</td>\n",
       "      <td>This game is good and the story was interestin...</td>\n",
       "      <td>Nur Aisha</td>\n",
       "      <td>634</td>\n",
       "      <td>2018</td>\n",
       "      <td>2018-02</td>\n",
       "    </tr>\n",
       "    <tr>\n",
       "      <th>1</th>\n",
       "      <td>Shall we date?WizardessHeart+</td>\n",
       "      <td>2018-03-22</td>\n",
       "      <td>2</td>\n",
       "      <td>11</td>\n",
       "      <td>Rather then an actual chapter as in some other...</td>\n",
       "      <td>Jessica Claxton</td>\n",
       "      <td>701</td>\n",
       "      <td>2018</td>\n",
       "      <td>2018-03</td>\n",
       "    </tr>\n",
       "    <tr>\n",
       "      <th>2</th>\n",
       "      <td>Shall we date?WizardessHeart+</td>\n",
       "      <td>2018-03-16</td>\n",
       "      <td>5</td>\n",
       "      <td>15</td>\n",
       "      <td>I loved it , it is so addicting and the charac...</td>\n",
       "      <td>Kiki Dillman</td>\n",
       "      <td>261</td>\n",
       "      <td>2018</td>\n",
       "      <td>2018-03</td>\n",
       "    </tr>\n",
       "    <tr>\n",
       "      <th>3</th>\n",
       "      <td>Shall we date?WizardessHeart+</td>\n",
       "      <td>2018-03-26</td>\n",
       "      <td>1</td>\n",
       "      <td>1</td>\n",
       "      <td>I've commented before about this but I despera...</td>\n",
       "      <td>elysian</td>\n",
       "      <td>574</td>\n",
       "      <td>2018</td>\n",
       "      <td>2018-03</td>\n",
       "    </tr>\n",
       "    <tr>\n",
       "      <th>4</th>\n",
       "      <td>Shall we date?WizardessHeart+</td>\n",
       "      <td>2018-02-26</td>\n",
       "      <td>3</td>\n",
       "      <td>14</td>\n",
       "      <td>This game is good and the story was interestin...</td>\n",
       "      <td>Nur Aisha</td>\n",
       "      <td>634</td>\n",
       "      <td>2018</td>\n",
       "      <td>2018-02</td>\n",
       "    </tr>\n",
       "  </tbody>\n",
       "</table>\n",
       "</div>"
      ],
      "text/plain": [
       "                           title       date  rating  helpful  \\\n",
       "0  Shall we date?WizardessHeart+ 2018-02-26       3       14   \n",
       "1  Shall we date?WizardessHeart+ 2018-03-22       2       11   \n",
       "2  Shall we date?WizardessHeart+ 2018-03-16       5       15   \n",
       "3  Shall we date?WizardessHeart+ 2018-03-26       1        1   \n",
       "4  Shall we date?WizardessHeart+ 2018-02-26       3       14   \n",
       "\n",
       "                                                text         username  length  \\\n",
       "0  This game is good and the story was interestin...        Nur Aisha     634   \n",
       "1  Rather then an actual chapter as in some other...  Jessica Claxton     701   \n",
       "2  I loved it , it is so addicting and the charac...     Kiki Dillman     261   \n",
       "3  I've commented before about this but I despera...          elysian     574   \n",
       "4  This game is good and the story was interestin...        Nur Aisha     634   \n",
       "\n",
       "   year    month  \n",
       "0  2018  2018-02  \n",
       "1  2018  2018-03  \n",
       "2  2018  2018-03  \n",
       "3  2018  2018-03  \n",
       "4  2018  2018-02  "
      ]
     },
     "execution_count": 15,
     "metadata": {},
     "output_type": "execute_result"
    }
   ],
   "source": [
    "df.head()"
   ]
  },
  {
   "cell_type": "code",
   "execution_count": 16,
   "metadata": {
    "collapsed": true
   },
   "outputs": [],
   "source": [
    "df1=pd.DataFrame({'avg_rating': df.groupby( [\"year\", \"title\"] )['rating'].mean()}).reset_index()"
   ]
  },
  {
   "cell_type": "code",
   "execution_count": 17,
   "metadata": {},
   "outputs": [
    {
     "data": {
      "text/html": [
       "<div>\n",
       "<style>\n",
       "    .dataframe thead tr:only-child th {\n",
       "        text-align: right;\n",
       "    }\n",
       "\n",
       "    .dataframe thead th {\n",
       "        text-align: left;\n",
       "    }\n",
       "\n",
       "    .dataframe tbody tr th {\n",
       "        vertical-align: top;\n",
       "    }\n",
       "</style>\n",
       "<table border=\"1\" class=\"dataframe\">\n",
       "  <thead>\n",
       "    <tr style=\"text-align: right;\">\n",
       "      <th></th>\n",
       "      <th>year</th>\n",
       "      <th>title</th>\n",
       "      <th>avg_rating</th>\n",
       "    </tr>\n",
       "  </thead>\n",
       "  <tbody>\n",
       "    <tr>\n",
       "      <th>0</th>\n",
       "      <td>2012</td>\n",
       "      <td>Zombie Dash</td>\n",
       "      <td>4.487597</td>\n",
       "    </tr>\n",
       "    <tr>\n",
       "      <th>1</th>\n",
       "      <td>2013</td>\n",
       "      <td>Eyes - The Horror Game</td>\n",
       "      <td>4.638225</td>\n",
       "    </tr>\n",
       "    <tr>\n",
       "      <th>2</th>\n",
       "      <td>2013</td>\n",
       "      <td>Treasure Diving</td>\n",
       "      <td>4.443336</td>\n",
       "    </tr>\n",
       "    <tr>\n",
       "      <th>3</th>\n",
       "      <td>2013</td>\n",
       "      <td>Zombie Dash</td>\n",
       "      <td>4.374144</td>\n",
       "    </tr>\n",
       "    <tr>\n",
       "      <th>4</th>\n",
       "      <td>2014</td>\n",
       "      <td>Adventure Town</td>\n",
       "      <td>4.494424</td>\n",
       "    </tr>\n",
       "  </tbody>\n",
       "</table>\n",
       "</div>"
      ],
      "text/plain": [
       "   year                   title  avg_rating\n",
       "0  2012             Zombie Dash    4.487597\n",
       "1  2013  Eyes - The Horror Game    4.638225\n",
       "2  2013         Treasure Diving    4.443336\n",
       "3  2013             Zombie Dash    4.374144\n",
       "4  2014          Adventure Town    4.494424"
      ]
     },
     "execution_count": 17,
     "metadata": {},
     "output_type": "execute_result"
    }
   ],
   "source": [
    "df1.head()"
   ]
  },
  {
   "cell_type": "code",
   "execution_count": 18,
   "metadata": {
    "collapsed": true
   },
   "outputs": [],
   "source": [
    "df2=df1.set_index([\"title\",\"year\"]).unstack(level=0)"
   ]
  },
  {
   "cell_type": "code",
   "execution_count": 19,
   "metadata": {},
   "outputs": [
    {
     "data": {
      "text/plain": [
       "(7, 53)"
      ]
     },
     "execution_count": 19,
     "metadata": {},
     "output_type": "execute_result"
    }
   ],
   "source": [
    "df2.shape"
   ]
  },
  {
   "cell_type": "code",
   "execution_count": 20,
   "metadata": {},
   "outputs": [
    {
     "data": {
      "text/html": [
       "<div>\n",
       "<style>\n",
       "    .dataframe thead tr:only-child th {\n",
       "        text-align: right;\n",
       "    }\n",
       "\n",
       "    .dataframe thead th {\n",
       "        text-align: left;\n",
       "    }\n",
       "\n",
       "    .dataframe tbody tr th {\n",
       "        vertical-align: top;\n",
       "    }\n",
       "</style>\n",
       "<table border=\"1\" class=\"dataframe\">\n",
       "  <thead>\n",
       "    <tr>\n",
       "      <th></th>\n",
       "      <th colspan=\"21\" halign=\"left\">avg_rating</th>\n",
       "    </tr>\n",
       "    <tr>\n",
       "      <th>title</th>\n",
       "      <th>Adventure Town</th>\n",
       "      <th>Alice in the Mirrors of Albion</th>\n",
       "      <th>BADLAND</th>\n",
       "      <th>BADLAND 2</th>\n",
       "      <th>Benji Bananas</th>\n",
       "      <th>Castle Cats Epic Story Quests</th>\n",
       "      <th>Clumsy Ninja</th>\n",
       "      <th>Crab War</th>\n",
       "      <th>Crazy Wheels</th>\n",
       "      <th>Criminal Case</th>\n",
       "      <th>...</th>\n",
       "      <th>Sonic Forces Speed Battle</th>\n",
       "      <th>Stranger Things The Game</th>\n",
       "      <th>Street Chaser</th>\n",
       "      <th>Survival Island Evolve – Survivor building home</th>\n",
       "      <th>Swordigo</th>\n",
       "      <th>The Walking Dead Season One</th>\n",
       "      <th>Tiny Miner</th>\n",
       "      <th>Treasure Diving</th>\n",
       "      <th>Wolf Online</th>\n",
       "      <th>Zombie Dash</th>\n",
       "    </tr>\n",
       "    <tr>\n",
       "      <th>year</th>\n",
       "      <th></th>\n",
       "      <th></th>\n",
       "      <th></th>\n",
       "      <th></th>\n",
       "      <th></th>\n",
       "      <th></th>\n",
       "      <th></th>\n",
       "      <th></th>\n",
       "      <th></th>\n",
       "      <th></th>\n",
       "      <th></th>\n",
       "      <th></th>\n",
       "      <th></th>\n",
       "      <th></th>\n",
       "      <th></th>\n",
       "      <th></th>\n",
       "      <th></th>\n",
       "      <th></th>\n",
       "      <th></th>\n",
       "      <th></th>\n",
       "      <th></th>\n",
       "    </tr>\n",
       "  </thead>\n",
       "  <tbody>\n",
       "    <tr>\n",
       "      <th>2012</th>\n",
       "      <td>NaN</td>\n",
       "      <td>NaN</td>\n",
       "      <td>NaN</td>\n",
       "      <td>NaN</td>\n",
       "      <td>NaN</td>\n",
       "      <td>NaN</td>\n",
       "      <td>NaN</td>\n",
       "      <td>NaN</td>\n",
       "      <td>NaN</td>\n",
       "      <td>NaN</td>\n",
       "      <td>...</td>\n",
       "      <td>NaN</td>\n",
       "      <td>NaN</td>\n",
       "      <td>NaN</td>\n",
       "      <td>NaN</td>\n",
       "      <td>NaN</td>\n",
       "      <td>NaN</td>\n",
       "      <td>NaN</td>\n",
       "      <td>NaN</td>\n",
       "      <td>NaN</td>\n",
       "      <td>4.487597</td>\n",
       "    </tr>\n",
       "    <tr>\n",
       "      <th>2013</th>\n",
       "      <td>NaN</td>\n",
       "      <td>NaN</td>\n",
       "      <td>NaN</td>\n",
       "      <td>NaN</td>\n",
       "      <td>NaN</td>\n",
       "      <td>NaN</td>\n",
       "      <td>NaN</td>\n",
       "      <td>NaN</td>\n",
       "      <td>NaN</td>\n",
       "      <td>NaN</td>\n",
       "      <td>...</td>\n",
       "      <td>NaN</td>\n",
       "      <td>NaN</td>\n",
       "      <td>NaN</td>\n",
       "      <td>NaN</td>\n",
       "      <td>NaN</td>\n",
       "      <td>NaN</td>\n",
       "      <td>NaN</td>\n",
       "      <td>4.443336</td>\n",
       "      <td>NaN</td>\n",
       "      <td>4.374144</td>\n",
       "    </tr>\n",
       "    <tr>\n",
       "      <th>2014</th>\n",
       "      <td>4.494424</td>\n",
       "      <td>NaN</td>\n",
       "      <td>NaN</td>\n",
       "      <td>NaN</td>\n",
       "      <td>4.452807</td>\n",
       "      <td>NaN</td>\n",
       "      <td>NaN</td>\n",
       "      <td>NaN</td>\n",
       "      <td>NaN</td>\n",
       "      <td>NaN</td>\n",
       "      <td>...</td>\n",
       "      <td>NaN</td>\n",
       "      <td>NaN</td>\n",
       "      <td>NaN</td>\n",
       "      <td>NaN</td>\n",
       "      <td>NaN</td>\n",
       "      <td>3.675676</td>\n",
       "      <td>NaN</td>\n",
       "      <td>4.434152</td>\n",
       "      <td>NaN</td>\n",
       "      <td>4.347121</td>\n",
       "    </tr>\n",
       "    <tr>\n",
       "      <th>2015</th>\n",
       "      <td>4.331569</td>\n",
       "      <td>NaN</td>\n",
       "      <td>NaN</td>\n",
       "      <td>NaN</td>\n",
       "      <td>4.344253</td>\n",
       "      <td>NaN</td>\n",
       "      <td>NaN</td>\n",
       "      <td>NaN</td>\n",
       "      <td>3.791940</td>\n",
       "      <td>NaN</td>\n",
       "      <td>...</td>\n",
       "      <td>NaN</td>\n",
       "      <td>NaN</td>\n",
       "      <td>NaN</td>\n",
       "      <td>NaN</td>\n",
       "      <td>4.621403</td>\n",
       "      <td>3.686717</td>\n",
       "      <td>NaN</td>\n",
       "      <td>4.422427</td>\n",
       "      <td>3.506832</td>\n",
       "      <td>4.320574</td>\n",
       "    </tr>\n",
       "    <tr>\n",
       "      <th>2016</th>\n",
       "      <td>4.441871</td>\n",
       "      <td>3.944687</td>\n",
       "      <td>4.105445</td>\n",
       "      <td>3.555397</td>\n",
       "      <td>4.256757</td>\n",
       "      <td>NaN</td>\n",
       "      <td>NaN</td>\n",
       "      <td>NaN</td>\n",
       "      <td>3.911640</td>\n",
       "      <td>NaN</td>\n",
       "      <td>...</td>\n",
       "      <td>NaN</td>\n",
       "      <td>NaN</td>\n",
       "      <td>NaN</td>\n",
       "      <td>2.968557</td>\n",
       "      <td>4.670481</td>\n",
       "      <td>4.050107</td>\n",
       "      <td>NaN</td>\n",
       "      <td>4.513174</td>\n",
       "      <td>3.804000</td>\n",
       "      <td>4.375000</td>\n",
       "    </tr>\n",
       "    <tr>\n",
       "      <th>2017</th>\n",
       "      <td>4.603757</td>\n",
       "      <td>4.317216</td>\n",
       "      <td>4.316101</td>\n",
       "      <td>3.958348</td>\n",
       "      <td>4.585549</td>\n",
       "      <td>4.757277</td>\n",
       "      <td>4.253436</td>\n",
       "      <td>4.652246</td>\n",
       "      <td>4.171171</td>\n",
       "      <td>4.596650</td>\n",
       "      <td>...</td>\n",
       "      <td>4.392145</td>\n",
       "      <td>4.739813</td>\n",
       "      <td>4.485294</td>\n",
       "      <td>3.455395</td>\n",
       "      <td>4.730631</td>\n",
       "      <td>4.376253</td>\n",
       "      <td>4.585366</td>\n",
       "      <td>4.591463</td>\n",
       "      <td>4.242851</td>\n",
       "      <td>4.671053</td>\n",
       "    </tr>\n",
       "    <tr>\n",
       "      <th>2018</th>\n",
       "      <td>4.608491</td>\n",
       "      <td>4.632184</td>\n",
       "      <td>4.161194</td>\n",
       "      <td>3.946067</td>\n",
       "      <td>4.675949</td>\n",
       "      <td>4.773532</td>\n",
       "      <td>4.134431</td>\n",
       "      <td>4.691595</td>\n",
       "      <td>3.978102</td>\n",
       "      <td>4.680774</td>\n",
       "      <td>...</td>\n",
       "      <td>4.581487</td>\n",
       "      <td>4.779794</td>\n",
       "      <td>4.531884</td>\n",
       "      <td>3.750588</td>\n",
       "      <td>4.697131</td>\n",
       "      <td>4.439506</td>\n",
       "      <td>4.582811</td>\n",
       "      <td>4.678261</td>\n",
       "      <td>4.288221</td>\n",
       "      <td>3.909091</td>\n",
       "    </tr>\n",
       "  </tbody>\n",
       "</table>\n",
       "<p>7 rows × 53 columns</p>\n",
       "</div>"
      ],
      "text/plain": [
       "          avg_rating                                                     \\\n",
       "title Adventure Town Alice in the Mirrors of Albion   BADLAND BADLAND 2   \n",
       "year                                                                      \n",
       "2012             NaN                            NaN       NaN       NaN   \n",
       "2013             NaN                            NaN       NaN       NaN   \n",
       "2014        4.494424                            NaN       NaN       NaN   \n",
       "2015        4.331569                            NaN       NaN       NaN   \n",
       "2016        4.441871                       3.944687  4.105445  3.555397   \n",
       "2017        4.603757                       4.317216  4.316101  3.958348   \n",
       "2018        4.608491                       4.632184  4.161194  3.946067   \n",
       "\n",
       "                                                                          \\\n",
       "title Benji Bananas Castle Cats Epic Story Quests Clumsy Ninja  Crab War   \n",
       "year                                                                       \n",
       "2012            NaN                           NaN          NaN       NaN   \n",
       "2013            NaN                           NaN          NaN       NaN   \n",
       "2014       4.452807                           NaN          NaN       NaN   \n",
       "2015       4.344253                           NaN          NaN       NaN   \n",
       "2016       4.256757                           NaN          NaN       NaN   \n",
       "2017       4.585549                      4.757277     4.253436  4.652246   \n",
       "2018       4.675949                      4.773532     4.134431  4.691595   \n",
       "\n",
       "                                     ...                                \\\n",
       "title Crazy Wheels Criminal Case     ...     Sonic Forces Speed Battle   \n",
       "year                                 ...                                 \n",
       "2012           NaN           NaN     ...                           NaN   \n",
       "2013           NaN           NaN     ...                           NaN   \n",
       "2014           NaN           NaN     ...                           NaN   \n",
       "2015      3.791940           NaN     ...                           NaN   \n",
       "2016      3.911640           NaN     ...                           NaN   \n",
       "2017      4.171171      4.596650     ...                      4.392145   \n",
       "2018      3.978102      4.680774     ...                      4.581487   \n",
       "\n",
       "                                              \\\n",
       "title Stranger Things The Game Street Chaser   \n",
       "year                                           \n",
       "2012                       NaN           NaN   \n",
       "2013                       NaN           NaN   \n",
       "2014                       NaN           NaN   \n",
       "2015                       NaN           NaN   \n",
       "2016                       NaN           NaN   \n",
       "2017                  4.739813      4.485294   \n",
       "2018                  4.779794      4.531884   \n",
       "\n",
       "                                                                 \\\n",
       "title Survival Island Evolve – Survivor building home  Swordigo   \n",
       "year                                                              \n",
       "2012                                              NaN       NaN   \n",
       "2013                                              NaN       NaN   \n",
       "2014                                              NaN       NaN   \n",
       "2015                                              NaN  4.621403   \n",
       "2016                                         2.968557  4.670481   \n",
       "2017                                         3.455395  4.730631   \n",
       "2018                                         3.750588  4.697131   \n",
       "\n",
       "                                                                          \\\n",
       "title The Walking Dead Season One Tiny Miner Treasure Diving Wolf Online   \n",
       "year                                                                       \n",
       "2012                          NaN        NaN             NaN         NaN   \n",
       "2013                          NaN        NaN        4.443336         NaN   \n",
       "2014                     3.675676        NaN        4.434152         NaN   \n",
       "2015                     3.686717        NaN        4.422427    3.506832   \n",
       "2016                     4.050107        NaN        4.513174    3.804000   \n",
       "2017                     4.376253   4.585366        4.591463    4.242851   \n",
       "2018                     4.439506   4.582811        4.678261    4.288221   \n",
       "\n",
       "                   \n",
       "title Zombie Dash  \n",
       "year               \n",
       "2012     4.487597  \n",
       "2013     4.374144  \n",
       "2014     4.347121  \n",
       "2015     4.320574  \n",
       "2016     4.375000  \n",
       "2017     4.671053  \n",
       "2018     3.909091  \n",
       "\n",
       "[7 rows x 53 columns]"
      ]
     },
     "execution_count": 20,
     "metadata": {},
     "output_type": "execute_result"
    }
   ],
   "source": [
    "df2"
   ]
  },
  {
   "cell_type": "code",
   "execution_count": 21,
   "metadata": {},
   "outputs": [
    {
     "data": {
      "text/html": [
       "<div>\n",
       "<style>\n",
       "    .dataframe thead tr:only-child th {\n",
       "        text-align: right;\n",
       "    }\n",
       "\n",
       "    .dataframe thead th {\n",
       "        text-align: left;\n",
       "    }\n",
       "\n",
       "    .dataframe tbody tr th {\n",
       "        vertical-align: top;\n",
       "    }\n",
       "</style>\n",
       "<table border=\"1\" class=\"dataframe\">\n",
       "  <thead>\n",
       "    <tr>\n",
       "      <th></th>\n",
       "      <th colspan=\"21\" halign=\"left\">avg_rating</th>\n",
       "    </tr>\n",
       "    <tr>\n",
       "      <th>title</th>\n",
       "      <th>Adventure Town</th>\n",
       "      <th>Alice in the Mirrors of Albion</th>\n",
       "      <th>BADLAND</th>\n",
       "      <th>BADLAND 2</th>\n",
       "      <th>Benji Bananas</th>\n",
       "      <th>Castle Cats Epic Story Quests</th>\n",
       "      <th>Clumsy Ninja</th>\n",
       "      <th>Crab War</th>\n",
       "      <th>Crazy Wheels</th>\n",
       "      <th>Criminal Case</th>\n",
       "      <th>...</th>\n",
       "      <th>Sonic Forces Speed Battle</th>\n",
       "      <th>Stranger Things The Game</th>\n",
       "      <th>Street Chaser</th>\n",
       "      <th>Survival Island Evolve – Survivor building home</th>\n",
       "      <th>Swordigo</th>\n",
       "      <th>The Walking Dead Season One</th>\n",
       "      <th>Tiny Miner</th>\n",
       "      <th>Treasure Diving</th>\n",
       "      <th>Wolf Online</th>\n",
       "      <th>Zombie Dash</th>\n",
       "    </tr>\n",
       "    <tr>\n",
       "      <th>month</th>\n",
       "      <th></th>\n",
       "      <th></th>\n",
       "      <th></th>\n",
       "      <th></th>\n",
       "      <th></th>\n",
       "      <th></th>\n",
       "      <th></th>\n",
       "      <th></th>\n",
       "      <th></th>\n",
       "      <th></th>\n",
       "      <th></th>\n",
       "      <th></th>\n",
       "      <th></th>\n",
       "      <th></th>\n",
       "      <th></th>\n",
       "      <th></th>\n",
       "      <th></th>\n",
       "      <th></th>\n",
       "      <th></th>\n",
       "      <th></th>\n",
       "      <th></th>\n",
       "    </tr>\n",
       "  </thead>\n",
       "  <tbody>\n",
       "    <tr>\n",
       "      <th>2012-07</th>\n",
       "      <td>NaN</td>\n",
       "      <td>NaN</td>\n",
       "      <td>NaN</td>\n",
       "      <td>NaN</td>\n",
       "      <td>NaN</td>\n",
       "      <td>NaN</td>\n",
       "      <td>NaN</td>\n",
       "      <td>NaN</td>\n",
       "      <td>NaN</td>\n",
       "      <td>NaN</td>\n",
       "      <td>...</td>\n",
       "      <td>NaN</td>\n",
       "      <td>NaN</td>\n",
       "      <td>NaN</td>\n",
       "      <td>NaN</td>\n",
       "      <td>NaN</td>\n",
       "      <td>NaN</td>\n",
       "      <td>NaN</td>\n",
       "      <td>NaN</td>\n",
       "      <td>NaN</td>\n",
       "      <td>4.487437</td>\n",
       "    </tr>\n",
       "    <tr>\n",
       "      <th>2012-08</th>\n",
       "      <td>NaN</td>\n",
       "      <td>NaN</td>\n",
       "      <td>NaN</td>\n",
       "      <td>NaN</td>\n",
       "      <td>NaN</td>\n",
       "      <td>NaN</td>\n",
       "      <td>NaN</td>\n",
       "      <td>NaN</td>\n",
       "      <td>NaN</td>\n",
       "      <td>NaN</td>\n",
       "      <td>...</td>\n",
       "      <td>NaN</td>\n",
       "      <td>NaN</td>\n",
       "      <td>NaN</td>\n",
       "      <td>NaN</td>\n",
       "      <td>NaN</td>\n",
       "      <td>NaN</td>\n",
       "      <td>NaN</td>\n",
       "      <td>NaN</td>\n",
       "      <td>NaN</td>\n",
       "      <td>4.540201</td>\n",
       "    </tr>\n",
       "    <tr>\n",
       "      <th>2012-09</th>\n",
       "      <td>NaN</td>\n",
       "      <td>NaN</td>\n",
       "      <td>NaN</td>\n",
       "      <td>NaN</td>\n",
       "      <td>NaN</td>\n",
       "      <td>NaN</td>\n",
       "      <td>NaN</td>\n",
       "      <td>NaN</td>\n",
       "      <td>NaN</td>\n",
       "      <td>NaN</td>\n",
       "      <td>...</td>\n",
       "      <td>NaN</td>\n",
       "      <td>NaN</td>\n",
       "      <td>NaN</td>\n",
       "      <td>NaN</td>\n",
       "      <td>NaN</td>\n",
       "      <td>NaN</td>\n",
       "      <td>NaN</td>\n",
       "      <td>NaN</td>\n",
       "      <td>NaN</td>\n",
       "      <td>4.527094</td>\n",
       "    </tr>\n",
       "    <tr>\n",
       "      <th>2012-10</th>\n",
       "      <td>NaN</td>\n",
       "      <td>NaN</td>\n",
       "      <td>NaN</td>\n",
       "      <td>NaN</td>\n",
       "      <td>NaN</td>\n",
       "      <td>NaN</td>\n",
       "      <td>NaN</td>\n",
       "      <td>NaN</td>\n",
       "      <td>NaN</td>\n",
       "      <td>NaN</td>\n",
       "      <td>...</td>\n",
       "      <td>NaN</td>\n",
       "      <td>NaN</td>\n",
       "      <td>NaN</td>\n",
       "      <td>NaN</td>\n",
       "      <td>NaN</td>\n",
       "      <td>NaN</td>\n",
       "      <td>NaN</td>\n",
       "      <td>NaN</td>\n",
       "      <td>NaN</td>\n",
       "      <td>4.566667</td>\n",
       "    </tr>\n",
       "    <tr>\n",
       "      <th>2012-11</th>\n",
       "      <td>NaN</td>\n",
       "      <td>NaN</td>\n",
       "      <td>NaN</td>\n",
       "      <td>NaN</td>\n",
       "      <td>NaN</td>\n",
       "      <td>NaN</td>\n",
       "      <td>NaN</td>\n",
       "      <td>NaN</td>\n",
       "      <td>NaN</td>\n",
       "      <td>NaN</td>\n",
       "      <td>...</td>\n",
       "      <td>NaN</td>\n",
       "      <td>NaN</td>\n",
       "      <td>NaN</td>\n",
       "      <td>NaN</td>\n",
       "      <td>NaN</td>\n",
       "      <td>NaN</td>\n",
       "      <td>NaN</td>\n",
       "      <td>NaN</td>\n",
       "      <td>NaN</td>\n",
       "      <td>4.348936</td>\n",
       "    </tr>\n",
       "  </tbody>\n",
       "</table>\n",
       "<p>5 rows × 53 columns</p>\n",
       "</div>"
      ],
      "text/plain": [
       "            avg_rating                                                   \\\n",
       "title   Adventure Town Alice in the Mirrors of Albion BADLAND BADLAND 2   \n",
       "month                                                                     \n",
       "2012-07            NaN                            NaN     NaN       NaN   \n",
       "2012-08            NaN                            NaN     NaN       NaN   \n",
       "2012-09            NaN                            NaN     NaN       NaN   \n",
       "2012-10            NaN                            NaN     NaN       NaN   \n",
       "2012-11            NaN                            NaN     NaN       NaN   \n",
       "\n",
       "                                                                           \\\n",
       "title   Benji Bananas Castle Cats Epic Story Quests Clumsy Ninja Crab War   \n",
       "month                                                                       \n",
       "2012-07           NaN                           NaN          NaN      NaN   \n",
       "2012-08           NaN                           NaN          NaN      NaN   \n",
       "2012-09           NaN                           NaN          NaN      NaN   \n",
       "2012-10           NaN                           NaN          NaN      NaN   \n",
       "2012-11           NaN                           NaN          NaN      NaN   \n",
       "\n",
       "                                       ...                                \\\n",
       "title   Crazy Wheels Criminal Case     ...     Sonic Forces Speed Battle   \n",
       "month                                  ...                                 \n",
       "2012-07          NaN           NaN     ...                           NaN   \n",
       "2012-08          NaN           NaN     ...                           NaN   \n",
       "2012-09          NaN           NaN     ...                           NaN   \n",
       "2012-10          NaN           NaN     ...                           NaN   \n",
       "2012-11          NaN           NaN     ...                           NaN   \n",
       "\n",
       "                                                \\\n",
       "title   Stranger Things The Game Street Chaser   \n",
       "month                                            \n",
       "2012-07                      NaN           NaN   \n",
       "2012-08                      NaN           NaN   \n",
       "2012-09                      NaN           NaN   \n",
       "2012-10                      NaN           NaN   \n",
       "2012-11                      NaN           NaN   \n",
       "\n",
       "                                                                  \\\n",
       "title   Survival Island Evolve – Survivor building home Swordigo   \n",
       "month                                                              \n",
       "2012-07                                             NaN      NaN   \n",
       "2012-08                                             NaN      NaN   \n",
       "2012-09                                             NaN      NaN   \n",
       "2012-10                                             NaN      NaN   \n",
       "2012-11                                             NaN      NaN   \n",
       "\n",
       "                                                                            \\\n",
       "title   The Walking Dead Season One Tiny Miner Treasure Diving Wolf Online   \n",
       "month                                                                        \n",
       "2012-07                         NaN        NaN             NaN         NaN   \n",
       "2012-08                         NaN        NaN             NaN         NaN   \n",
       "2012-09                         NaN        NaN             NaN         NaN   \n",
       "2012-10                         NaN        NaN             NaN         NaN   \n",
       "2012-11                         NaN        NaN             NaN         NaN   \n",
       "\n",
       "                     \n",
       "title   Zombie Dash  \n",
       "month                \n",
       "2012-07    4.487437  \n",
       "2012-08    4.540201  \n",
       "2012-09    4.527094  \n",
       "2012-10    4.566667  \n",
       "2012-11    4.348936  \n",
       "\n",
       "[5 rows x 53 columns]"
      ]
     },
     "execution_count": 21,
     "metadata": {},
     "output_type": "execute_result"
    }
   ],
   "source": [
    "df3=pd.DataFrame({'avg_rating': df.groupby( [\"month\", \"title\"] )['rating'].mean()}).reset_index()\n",
    "df4=df3.set_index([\"title\",\"month\"]).unstack(level=0)\n",
    "df4.head()"
   ]
  },
  {
   "cell_type": "code",
   "execution_count": 22,
   "metadata": {},
   "outputs": [
    {
     "data": {
      "text/plain": [
       "[('avg_rating', 'Adventure Town'),\n",
       " ('avg_rating', 'Alice in the Mirrors of Albion'),\n",
       " ('avg_rating', 'BADLAND'),\n",
       " ('avg_rating', 'BADLAND 2'),\n",
       " ('avg_rating', 'Benji Bananas'),\n",
       " ('avg_rating', 'Castle Cats Epic Story Quests'),\n",
       " ('avg_rating', 'Clumsy Ninja'),\n",
       " ('avg_rating', 'Crab War'),\n",
       " ('avg_rating', 'Crazy Wheels'),\n",
       " ('avg_rating', 'Criminal Case'),\n",
       " ('avg_rating', 'Criminal Case Pacific Bay'),\n",
       " ('avg_rating', 'Criminal Case Save the World!'),\n",
       " ('avg_rating', \"Diggy's Adventure\"),\n",
       " ('avg_rating', 'Dragon Land'),\n",
       " ('avg_rating', 'Draw Your Game'),\n",
       " ('avg_rating', 'Draw a Stickman EPIC 2 Free'),\n",
       " ('avg_rating', 'Eyes - The Horror Game'),\n",
       " ('avg_rating', 'Fast like a Fox'),\n",
       " ('avg_rating', 'Flutter Butterfly Sanctuary'),\n",
       " ('avg_rating', 'Freeroam City Online'),\n",
       " ('avg_rating', 'Ghost Town Adventures Mystery Riddles Game'),\n",
       " ('avg_rating', 'Growtopia'),\n",
       " ('avg_rating', 'Hidden City Hidden Object Adventure'),\n",
       " ('avg_rating', 'Hollywood Story'),\n",
       " ('avg_rating', 'Ice Age Adventures'),\n",
       " ('avg_rating', 'Jungle Adventures'),\n",
       " ('avg_rating', 'Jungle Adventures 2'),\n",
       " ('avg_rating', 'KIM KARDASHIAN HOLLYWOOD'),\n",
       " ('avg_rating', 'Knives Out'),\n",
       " ('avg_rating', 'LEGO® NEXO KNIGHTS™ MERLOK 2.0'),\n",
       " ('avg_rating', 'LONEWOLF (17+)'),\n",
       " ('avg_rating', 'Light a Way'),\n",
       " ('avg_rating', 'Luna Mobile'),\n",
       " ('avg_rating', 'Mahjong Journey'),\n",
       " ('avg_rating', 'Masha and the Bear Child Games'),\n",
       " ('avg_rating', 'Minecraft Story Mode'),\n",
       " ('avg_rating', 'Monster Warlord'),\n",
       " ('avg_rating', 'Ninja Arashi'),\n",
       " ('avg_rating', \"Pearl's Peril - Hidden Object Game\"),\n",
       " ('avg_rating', 'Pokémon GO'),\n",
       " ('avg_rating', 'ROBLOX'),\n",
       " ('avg_rating', 'Rayman Adventures'),\n",
       " ('avg_rating', 'Shall we date?WizardessHeart+'),\n",
       " ('avg_rating', 'Sonic Forces Speed Battle'),\n",
       " ('avg_rating', 'Stranger Things The Game'),\n",
       " ('avg_rating', 'Street Chaser'),\n",
       " ('avg_rating', 'Survival Island Evolve – Survivor building home'),\n",
       " ('avg_rating', 'Swordigo'),\n",
       " ('avg_rating', 'The Walking Dead Season One'),\n",
       " ('avg_rating', 'Tiny Miner'),\n",
       " ('avg_rating', 'Treasure Diving'),\n",
       " ('avg_rating', 'Wolf Online'),\n",
       " ('avg_rating', 'Zombie Dash')]"
      ]
     },
     "execution_count": 22,
     "metadata": {},
     "output_type": "execute_result"
    }
   ],
   "source": [
    "list(df2.columns)"
   ]
  },
  {
   "cell_type": "code",
   "execution_count": 23,
   "metadata": {
    "collapsed": true
   },
   "outputs": [],
   "source": [
    "df2['year'] = df2.index"
   ]
  },
  {
   "cell_type": "code",
   "execution_count": 24,
   "metadata": {
    "collapsed": true
   },
   "outputs": [],
   "source": [
    "df4['month']=df4.index"
   ]
  },
  {
   "cell_type": "code",
   "execution_count": 25,
   "metadata": {},
   "outputs": [
    {
     "data": {
      "text/plain": [
       "            title                                          \n",
       "avg_rating  Adventure Town                                     float64\n",
       "            Alice in the Mirrors of Albion                     float64\n",
       "            BADLAND                                            float64\n",
       "            BADLAND 2                                          float64\n",
       "            Benji Bananas                                      float64\n",
       "            Castle Cats Epic Story Quests                      float64\n",
       "            Clumsy Ninja                                       float64\n",
       "            Crab War                                           float64\n",
       "            Crazy Wheels                                       float64\n",
       "            Criminal Case                                      float64\n",
       "            Criminal Case Pacific Bay                          float64\n",
       "            Criminal Case Save the World!                      float64\n",
       "            Diggy's Adventure                                  float64\n",
       "            Dragon Land                                        float64\n",
       "            Draw Your Game                                     float64\n",
       "            Draw a Stickman EPIC 2 Free                        float64\n",
       "            Eyes - The Horror Game                             float64\n",
       "            Fast like a Fox                                    float64\n",
       "            Flutter Butterfly Sanctuary                        float64\n",
       "            Freeroam City Online                               float64\n",
       "            Ghost Town Adventures Mystery Riddles Game         float64\n",
       "            Growtopia                                          float64\n",
       "            Hidden City Hidden Object Adventure                float64\n",
       "            Hollywood Story                                    float64\n",
       "            Ice Age Adventures                                 float64\n",
       "            Jungle Adventures                                  float64\n",
       "            Jungle Adventures 2                                float64\n",
       "            KIM KARDASHIAN HOLLYWOOD                           float64\n",
       "            Knives Out                                         float64\n",
       "            LEGO® NEXO KNIGHTS™ MERLOK 2.0                     float64\n",
       "            LONEWOLF (17+)                                     float64\n",
       "            Light a Way                                        float64\n",
       "            Luna Mobile                                        float64\n",
       "            Mahjong Journey                                    float64\n",
       "            Masha and the Bear Child Games                     float64\n",
       "            Minecraft Story Mode                               float64\n",
       "            Monster Warlord                                    float64\n",
       "            Ninja Arashi                                       float64\n",
       "            Pearl's Peril - Hidden Object Game                 float64\n",
       "            Pokémon GO                                         float64\n",
       "            ROBLOX                                             float64\n",
       "            Rayman Adventures                                  float64\n",
       "            Shall we date?WizardessHeart+                      float64\n",
       "            Sonic Forces Speed Battle                          float64\n",
       "            Stranger Things The Game                           float64\n",
       "            Street Chaser                                      float64\n",
       "            Survival Island Evolve – Survivor building home    float64\n",
       "            Swordigo                                           float64\n",
       "            The Walking Dead Season One                        float64\n",
       "            Tiny Miner                                         float64\n",
       "            Treasure Diving                                    float64\n",
       "            Wolf Online                                        float64\n",
       "            Zombie Dash                                        float64\n",
       "month                                                           object\n",
       "dtype: object"
      ]
     },
     "execution_count": 25,
     "metadata": {},
     "output_type": "execute_result"
    }
   ],
   "source": [
    "df4.dtypes"
   ]
  },
  {
   "cell_type": "code",
   "execution_count": 26,
   "metadata": {},
   "outputs": [
    {
     "data": {
      "text/html": [
       "<div>\n",
       "<style>\n",
       "    .dataframe thead tr:only-child th {\n",
       "        text-align: right;\n",
       "    }\n",
       "\n",
       "    .dataframe thead th {\n",
       "        text-align: left;\n",
       "    }\n",
       "\n",
       "    .dataframe tbody tr th {\n",
       "        vertical-align: top;\n",
       "    }\n",
       "</style>\n",
       "<table border=\"1\" class=\"dataframe\">\n",
       "  <thead>\n",
       "    <tr>\n",
       "      <th></th>\n",
       "      <th colspan=\"20\" halign=\"left\">avg_rating</th>\n",
       "      <th>month</th>\n",
       "    </tr>\n",
       "    <tr>\n",
       "      <th>title</th>\n",
       "      <th>Adventure Town</th>\n",
       "      <th>Alice in the Mirrors of Albion</th>\n",
       "      <th>BADLAND</th>\n",
       "      <th>BADLAND 2</th>\n",
       "      <th>Benji Bananas</th>\n",
       "      <th>Castle Cats Epic Story Quests</th>\n",
       "      <th>Clumsy Ninja</th>\n",
       "      <th>Crab War</th>\n",
       "      <th>Crazy Wheels</th>\n",
       "      <th>Criminal Case</th>\n",
       "      <th>...</th>\n",
       "      <th>Stranger Things The Game</th>\n",
       "      <th>Street Chaser</th>\n",
       "      <th>Survival Island Evolve – Survivor building home</th>\n",
       "      <th>Swordigo</th>\n",
       "      <th>The Walking Dead Season One</th>\n",
       "      <th>Tiny Miner</th>\n",
       "      <th>Treasure Diving</th>\n",
       "      <th>Wolf Online</th>\n",
       "      <th>Zombie Dash</th>\n",
       "      <th></th>\n",
       "    </tr>\n",
       "    <tr>\n",
       "      <th>month</th>\n",
       "      <th></th>\n",
       "      <th></th>\n",
       "      <th></th>\n",
       "      <th></th>\n",
       "      <th></th>\n",
       "      <th></th>\n",
       "      <th></th>\n",
       "      <th></th>\n",
       "      <th></th>\n",
       "      <th></th>\n",
       "      <th></th>\n",
       "      <th></th>\n",
       "      <th></th>\n",
       "      <th></th>\n",
       "      <th></th>\n",
       "      <th></th>\n",
       "      <th></th>\n",
       "      <th></th>\n",
       "      <th></th>\n",
       "      <th></th>\n",
       "      <th></th>\n",
       "    </tr>\n",
       "  </thead>\n",
       "  <tbody>\n",
       "    <tr>\n",
       "      <th>2012-07</th>\n",
       "      <td>NaN</td>\n",
       "      <td>NaN</td>\n",
       "      <td>NaN</td>\n",
       "      <td>NaN</td>\n",
       "      <td>NaN</td>\n",
       "      <td>NaN</td>\n",
       "      <td>NaN</td>\n",
       "      <td>NaN</td>\n",
       "      <td>NaN</td>\n",
       "      <td>NaN</td>\n",
       "      <td>...</td>\n",
       "      <td>NaN</td>\n",
       "      <td>NaN</td>\n",
       "      <td>NaN</td>\n",
       "      <td>NaN</td>\n",
       "      <td>NaN</td>\n",
       "      <td>NaN</td>\n",
       "      <td>NaN</td>\n",
       "      <td>NaN</td>\n",
       "      <td>4.487437</td>\n",
       "      <td>2012-07</td>\n",
       "    </tr>\n",
       "    <tr>\n",
       "      <th>2012-08</th>\n",
       "      <td>NaN</td>\n",
       "      <td>NaN</td>\n",
       "      <td>NaN</td>\n",
       "      <td>NaN</td>\n",
       "      <td>NaN</td>\n",
       "      <td>NaN</td>\n",
       "      <td>NaN</td>\n",
       "      <td>NaN</td>\n",
       "      <td>NaN</td>\n",
       "      <td>NaN</td>\n",
       "      <td>...</td>\n",
       "      <td>NaN</td>\n",
       "      <td>NaN</td>\n",
       "      <td>NaN</td>\n",
       "      <td>NaN</td>\n",
       "      <td>NaN</td>\n",
       "      <td>NaN</td>\n",
       "      <td>NaN</td>\n",
       "      <td>NaN</td>\n",
       "      <td>4.540201</td>\n",
       "      <td>2012-08</td>\n",
       "    </tr>\n",
       "    <tr>\n",
       "      <th>2012-09</th>\n",
       "      <td>NaN</td>\n",
       "      <td>NaN</td>\n",
       "      <td>NaN</td>\n",
       "      <td>NaN</td>\n",
       "      <td>NaN</td>\n",
       "      <td>NaN</td>\n",
       "      <td>NaN</td>\n",
       "      <td>NaN</td>\n",
       "      <td>NaN</td>\n",
       "      <td>NaN</td>\n",
       "      <td>...</td>\n",
       "      <td>NaN</td>\n",
       "      <td>NaN</td>\n",
       "      <td>NaN</td>\n",
       "      <td>NaN</td>\n",
       "      <td>NaN</td>\n",
       "      <td>NaN</td>\n",
       "      <td>NaN</td>\n",
       "      <td>NaN</td>\n",
       "      <td>4.527094</td>\n",
       "      <td>2012-09</td>\n",
       "    </tr>\n",
       "    <tr>\n",
       "      <th>2012-10</th>\n",
       "      <td>NaN</td>\n",
       "      <td>NaN</td>\n",
       "      <td>NaN</td>\n",
       "      <td>NaN</td>\n",
       "      <td>NaN</td>\n",
       "      <td>NaN</td>\n",
       "      <td>NaN</td>\n",
       "      <td>NaN</td>\n",
       "      <td>NaN</td>\n",
       "      <td>NaN</td>\n",
       "      <td>...</td>\n",
       "      <td>NaN</td>\n",
       "      <td>NaN</td>\n",
       "      <td>NaN</td>\n",
       "      <td>NaN</td>\n",
       "      <td>NaN</td>\n",
       "      <td>NaN</td>\n",
       "      <td>NaN</td>\n",
       "      <td>NaN</td>\n",
       "      <td>4.566667</td>\n",
       "      <td>2012-10</td>\n",
       "    </tr>\n",
       "    <tr>\n",
       "      <th>2012-11</th>\n",
       "      <td>NaN</td>\n",
       "      <td>NaN</td>\n",
       "      <td>NaN</td>\n",
       "      <td>NaN</td>\n",
       "      <td>NaN</td>\n",
       "      <td>NaN</td>\n",
       "      <td>NaN</td>\n",
       "      <td>NaN</td>\n",
       "      <td>NaN</td>\n",
       "      <td>NaN</td>\n",
       "      <td>...</td>\n",
       "      <td>NaN</td>\n",
       "      <td>NaN</td>\n",
       "      <td>NaN</td>\n",
       "      <td>NaN</td>\n",
       "      <td>NaN</td>\n",
       "      <td>NaN</td>\n",
       "      <td>NaN</td>\n",
       "      <td>NaN</td>\n",
       "      <td>4.348936</td>\n",
       "      <td>2012-11</td>\n",
       "    </tr>\n",
       "  </tbody>\n",
       "</table>\n",
       "<p>5 rows × 54 columns</p>\n",
       "</div>"
      ],
      "text/plain": [
       "            avg_rating                                                   \\\n",
       "title   Adventure Town Alice in the Mirrors of Albion BADLAND BADLAND 2   \n",
       "month                                                                     \n",
       "2012-07            NaN                            NaN     NaN       NaN   \n",
       "2012-08            NaN                            NaN     NaN       NaN   \n",
       "2012-09            NaN                            NaN     NaN       NaN   \n",
       "2012-10            NaN                            NaN     NaN       NaN   \n",
       "2012-11            NaN                            NaN     NaN       NaN   \n",
       "\n",
       "                                                                           \\\n",
       "title   Benji Bananas Castle Cats Epic Story Quests Clumsy Ninja Crab War   \n",
       "month                                                                       \n",
       "2012-07           NaN                           NaN          NaN      NaN   \n",
       "2012-08           NaN                           NaN          NaN      NaN   \n",
       "2012-09           NaN                           NaN          NaN      NaN   \n",
       "2012-10           NaN                           NaN          NaN      NaN   \n",
       "2012-11           NaN                           NaN          NaN      NaN   \n",
       "\n",
       "                                     ...                              \\\n",
       "title   Crazy Wheels Criminal Case   ...    Stranger Things The Game   \n",
       "month                                ...                               \n",
       "2012-07          NaN           NaN   ...                         NaN   \n",
       "2012-08          NaN           NaN   ...                         NaN   \n",
       "2012-09          NaN           NaN   ...                         NaN   \n",
       "2012-10          NaN           NaN   ...                         NaN   \n",
       "2012-11          NaN           NaN   ...                         NaN   \n",
       "\n",
       "                                                                       \\\n",
       "title   Street Chaser Survival Island Evolve – Survivor building home   \n",
       "month                                                                   \n",
       "2012-07           NaN                                             NaN   \n",
       "2012-08           NaN                                             NaN   \n",
       "2012-09           NaN                                             NaN   \n",
       "2012-10           NaN                                             NaN   \n",
       "2012-11           NaN                                             NaN   \n",
       "\n",
       "                                                                         \\\n",
       "title   Swordigo The Walking Dead Season One Tiny Miner Treasure Diving   \n",
       "month                                                                     \n",
       "2012-07      NaN                         NaN        NaN             NaN   \n",
       "2012-08      NaN                         NaN        NaN             NaN   \n",
       "2012-09      NaN                         NaN        NaN             NaN   \n",
       "2012-10      NaN                         NaN        NaN             NaN   \n",
       "2012-11      NaN                         NaN        NaN             NaN   \n",
       "\n",
       "                                   month  \n",
       "title   Wolf Online Zombie Dash           \n",
       "month                                     \n",
       "2012-07         NaN    4.487437  2012-07  \n",
       "2012-08         NaN    4.540201  2012-08  \n",
       "2012-09         NaN    4.527094  2012-09  \n",
       "2012-10         NaN    4.566667  2012-10  \n",
       "2012-11         NaN    4.348936  2012-11  \n",
       "\n",
       "[5 rows x 54 columns]"
      ]
     },
     "execution_count": 26,
     "metadata": {},
     "output_type": "execute_result"
    }
   ],
   "source": [
    "df4.head()"
   ]
  },
  {
   "cell_type": "code",
   "execution_count": 27,
   "metadata": {
    "collapsed": true
   },
   "outputs": [],
   "source": [
    "import datetime\n",
    "import matplotlib.pyplot as plt\n",
    "import seaborn as sns\n",
    "%matplotlib inline"
   ]
  },
  {
   "cell_type": "code",
   "execution_count": null,
   "metadata": {},
   "outputs": [],
   "source": [
    "# Initialize the figure\n",
    "plt.style.use('seaborn-darkgrid')\n",
    " \n",
    "# create a color palette\n",
    "palette = plt.get_cmap('Set1')\n",
    "\n",
    "f, axs = plt.subplots(18,3,figsize=(20,70))\n",
    "\n",
    "# multiple line plot\n",
    "num=0\n",
    "for column in df2.drop('year', axis=1):\n",
    "    num+=1\n",
    " \n",
    "    # Find the right spot on the plot\n",
    "    plt.subplot(18, 3, num)\n",
    "     \n",
    "    # Plot the lineplot\n",
    "    plt.plot(df2['year'], df2[(column)], marker='', color=palette(1), linewidth=1.9, alpha=0.9, label=(column))\n",
    "    plt.xlim(2012,2018)\n",
    "    plt.ylim(1,5)\n",
    "  \n",
    "    # general title\n",
    "    plt.suptitle(\"Trend of yearly average rating\", fontsize=25, fontweight=0, color='black', style='italic', y=0.89)\n",
    " \n",
    "    # Axis title\n",
    "    plt.text(3,0.5, column, ha='center', va='center',fontsize=15)\n",
    "    \n"
   ]
  },
  {
   "cell_type": "code",
   "execution_count": 217,
   "metadata": {},
   "outputs": [
    {
     "data": {
      "text/plain": [
       "Text(57,2.5,'Fast like a Fox')"
      ]
     },
     "execution_count": 217,
     "metadata": {},
     "output_type": "execute_result"
    },
    {
     "data": {
      "image/png": "[encoded data removed]",
      "text/plain": [
       "<matplotlib.figure.Figure at 0x220c1542908>"
      ]
     },
     "metadata": {},
     "output_type": "display_data"
    }
   ],
   "source": [
    "# Initialize the figure\n",
    "plt.style.use('seaborn-darkgrid')\n",
    " \n",
    "# create a color palette\n",
    "palette = plt.get_cmap('Set1')\n",
    "\n",
    "plt.figure(figsize=(10,5))\n",
    "     \n",
    "# Plot the lineplot\n",
    "plt.plot(df4['month'], df4[('avg_rating', 'Fast like a Fox')], marker='', color=palette(1), linewidth=1.9, alpha=0.9, label=('avg_rating', 'Fast like a Fox'))\n",
    "plt.ylim(3,5)\n",
    "plt.xticks(rotation=45)\n",
    "  \n",
    "# general title\n",
    "plt.suptitle(\"Trend of monthly average rating\", fontsize=20, fontweight=0, color='black', style='italic', y=1.02)\n",
    " \n",
    "# Axis title\n",
    "plt.text(57, 2.5, 'Fast like a Fox', ha='center', va='center',fontsize=15)"
   ]
  },
  {
   "cell_type": "markdown",
   "metadata": {},
   "source": [
    "# Compare the 2-4 star reviews and 1&5 star reviews"
   ]
  },
  {
   "cell_type": "code",
   "execution_count": 28,
   "metadata": {},
   "outputs": [
    {
     "data": {
      "text/plain": [
       "(279261, 9)"
      ]
     },
     "execution_count": 28,
     "metadata": {},
     "output_type": "execute_result"
    }
   ],
   "source": [
    "# create two new DataFrame that only contains the 2-4 ratings review and 1&5 ratings review seperately\n",
    "review_onefive = df[(df.rating==5) | (df.rating==1)]\n",
    "review_onefive.shape"
   ]
  },
  {
   "cell_type": "code",
   "execution_count": 29,
   "metadata": {},
   "outputs": [
    {
     "data": {
      "text/plain": [
       "54.91781165289819"
      ]
     },
     "execution_count": 29,
     "metadata": {},
     "output_type": "execute_result"
    }
   ],
   "source": [
    "review_onefive[\"length\"].mean()"
   ]
  },
  {
   "cell_type": "code",
   "execution_count": 30,
   "metadata": {},
   "outputs": [
    {
     "data": {
      "text/plain": [
       "(83868, 9)"
      ]
     },
     "execution_count": 30,
     "metadata": {},
     "output_type": "execute_result"
    }
   ],
   "source": [
    "review_twofour = df[(df.rating==2) | (df.rating==3)| (df.rating==4)]\n",
    "review_twofour.shape"
   ]
  },
  {
   "cell_type": "code",
   "execution_count": 31,
   "metadata": {},
   "outputs": [
    {
     "data": {
      "text/plain": [
       "93.06430342919826"
      ]
     },
     "execution_count": 31,
     "metadata": {},
     "output_type": "execute_result"
    }
   ],
   "source": [
    "review_twofour[\"length\"].mean()"
   ]
  },
  {
   "cell_type": "code",
   "execution_count": 32,
   "metadata": {
    "collapsed": true
   },
   "outputs": [],
   "source": [
    "x15=review_onefive.text"
   ]
  },
  {
   "cell_type": "code",
   "execution_count": 33,
   "metadata": {},
   "outputs": [
    {
     "data": {
      "text/plain": [
       "2    I loved it , it is so addicting and the charac...\n",
       "3    I've commented before about this but I despera...\n",
       "6    I loved it , it is so addicting and the charac...\n",
       "7    I've commented before about this but I despera...\n",
       "8    This is my favorite app and has been for almos...\n",
       "Name: text, dtype: object"
      ]
     },
     "execution_count": 33,
     "metadata": {},
     "output_type": "execute_result"
    }
   ],
   "source": [
    "x15.head()"
   ]
  },
  {
   "cell_type": "code",
   "execution_count": 34,
   "metadata": {
    "collapsed": true
   },
   "outputs": [],
   "source": [
    "x24=review_twofour.text"
   ]
  },
  {
   "cell_type": "code",
   "execution_count": 35,
   "metadata": {},
   "outputs": [
    {
     "data": {
      "text/plain": [
       "0    This game is good and the story was interestin...\n",
       "1    Rather then an actual chapter as in some other...\n",
       "4    This game is good and the story was interestin...\n",
       "5    Rather then an actual chapter as in some other...\n",
       "9    This used to be my favorite Solmare game, but ...\n",
       "Name: text, dtype: object"
      ]
     },
     "execution_count": 35,
     "metadata": {},
     "output_type": "execute_result"
    }
   ],
   "source": [
    "x24.head()"
   ]
  },
  {
   "cell_type": "code",
   "execution_count": 105,
   "metadata": {},
   "outputs": [
    {
     "data": {
      "text/plain": [
       "TfidfVectorizer(analyzer='word', binary=False, decode_error='strict',\n",
       "        dtype=<class 'numpy.int64'>, encoding='utf-8', input='content',\n",
       "        lowercase=True, max_df=1.0, max_features=None, min_df=10,\n",
       "        ngram_range=(1, 2), norm='l2', preprocessor=None, smooth_idf=True,\n",
       "        stop_words='english', strip_accents=None, sublinear_tf=False,\n",
       "        token_pattern='(?u)\\\\b\\\\w\\\\w+\\\\b', tokenizer=None, use_idf=True,\n",
       "        vocabulary=None)"
      ]
     },
     "execution_count": 105,
     "metadata": {},
     "output_type": "execute_result"
    }
   ],
   "source": [
    "from sklearn.feature_extraction.text import TfidfVectorizer\n",
    "vect = TfidfVectorizer(min_df=10,ngram_range=(1, 2), stop_words='english')\n",
    "#from sklearn.feature_extraction.text import CountVectorizer\n",
    "#vect = CountVectorizer(max_features=5000,stop_words='english')\n",
    "\n",
    "vect"
   ]
  },
  {
   "cell_type": "code",
   "execution_count": 106,
   "metadata": {},
   "outputs": [
    {
     "data": {
      "text/plain": [
       "(83868, 9797)"
      ]
     },
     "execution_count": 106,
     "metadata": {},
     "output_type": "execute_result"
    }
   ],
   "source": [
    "dtm24 = vect.fit_transform(x24)\n",
    "dtm24.shape"
   ]
  },
  {
   "cell_type": "code",
   "execution_count": 107,
   "metadata": {},
   "outputs": [
    {
     "data": {
      "text/plain": [
       "<83868x9797 sparse matrix of type '<class 'numpy.float64'>'\n",
       "\twith 778895 stored elements in Compressed Sparse Row format>"
      ]
     },
     "execution_count": 107,
     "metadata": {},
     "output_type": "execute_result"
    }
   ],
   "source": [
    "dtm24"
   ]
  },
  {
   "cell_type": "code",
   "execution_count": 108,
   "metadata": {},
   "outputs": [
    {
     "data": {
      "text/plain": [
       "9797"
      ]
     },
     "execution_count": 108,
     "metadata": {},
     "output_type": "execute_result"
    }
   ],
   "source": [
    "features = vect.get_feature_names()\n",
    "len(features)"
   ]
  },
  {
   "cell_type": "markdown",
   "metadata": {},
   "source": [
    "## Top weighted 100 words in 2-4 stars reviews"
   ]
  },
  {
   "cell_type": "code",
   "execution_count": 109,
   "metadata": {},
   "outputs": [
    {
     "name": "stdout",
     "output_type": "stream",
     "text": [
      "['items complete', 'interesting like', 'points time', 'thought going', 'cool buy', 'points fix', 'thrill', 'installing game', 'instruction', 'intended', 'convert', 'throws', 'ths', 'plz try', 'interested game', 'plz solve', 'tick', 'thou', 'pokeball', 'thirty', 'imposible', 'cost items', 'im sorry', 'cost coins', 'corrected', 'im uninstalling', 'pop middle', 'think love', 'thinking deleting', 'poor graphics', 'impossible finish', 'cool thing', 'think time', 'includes', 'think way', 'interesting good', 'controls pretty', 'completed episode', 'controls make', 'item need', 'playing little', 'connection failed', 'items energy', 'items hard', 'items way', 'connect friends', 'j7', 'jack', 'jesse', 'time opened', 'concerns', 'job guys', 'completed offer', 'time player', 'connection server', 'issues fixed', 'playing stop', 'time come', 'pls reply', 'controls difficult', 'time ad', 'pls im', 'invited', 'time app', 'time did', 'console game', 'time doesn', 'time dont', 'time enter', 'isn really', 'isn worth', 'constantly crashes', 'im looking', 'possibilities', 'think energy', 'potter', 'taps', 'targets', 'help help', 'teaching', 'day long', 'help like', 'data connection', 'tell friends', 'help pls', 'problem problem', 'damn good', 'daily quests', 'help problem', 'problem make', 'cute love', 'heats', 'hearing', 'progress saved', 'descriptions', 'takes money', 'harry potter', 'purchase episode', 'hate bit', 'pulled']\n"
     ]
    }
   ],
   "source": [
    "import numpy as np\n",
    "indices = np.argsort(vect.idf_)[::-1]\n",
    "top_n24 = 100\n",
    "top_features24 = [features[i] for i in indices[:top_n24]]\n",
    "print(top_features24)"
   ]
  },
  {
   "cell_type": "code",
   "execution_count": 110,
   "metadata": {},
   "outputs": [
    {
     "name": "stdout",
     "output_type": "stream",
     "text": [
      "<wordcloud.wordcloud.WordCloud object at 0x000002E3B0853080>\n"
     ]
    },
    {
     "data": {
      "image/png": "[encoded data removed]",
      "text/plain": [
       "<matplotlib.figure.Figure at 0x2e3a5768f28>"
      ]
     },
     "metadata": {},
     "output_type": "display_data"
    }
   ],
   "source": [
    "import numpy as np # linear algebra\n",
    "import pandas as pd \n",
    "import matplotlib as mpl\n",
    "import matplotlib.pyplot as plt\n",
    "%matplotlib inline\n",
    "\n",
    "from subprocess import check_output\n",
    "from wordcloud import WordCloud, STOPWORDS\n",
    "\n",
    "mpl.rcParams['figure.figsize']=(8.0,6.0)    #(6.0,4.0)\n",
    "mpl.rcParams['font.size']=12                #10 \n",
    "mpl.rcParams['savefig.dpi']=100             #72 \n",
    "mpl.rcParams['figure.subplot.bottom']=.1 \n",
    "\n",
    "\n",
    "stopwords = set(STOPWORDS)\n",
    "data = top_features24\n",
    "\n",
    "wordcloud = WordCloud(\n",
    "                          background_color='white',\n",
    "                          #stopwords=stopwords,\n",
    "                          max_words=200,\n",
    "                          max_font_size=40, \n",
    "                          random_state=42\n",
    "                         ).generate(str(data))\n",
    "\n",
    "print(wordcloud)\n",
    "fig = plt.figure(1)\n",
    "plt.imshow(wordcloud)\n",
    "plt.axis('off')\n",
    "plt.show()\n",
    "fig.savefig(\"word1.png\", dpi=900)"
   ]
  },
  {
   "cell_type": "markdown",
   "metadata": {},
   "source": [
    "## Least weighted 100 words in 2-4 stars reviews"
   ]
  },
  {
   "cell_type": "code",
   "execution_count": 111,
   "metadata": {},
   "outputs": [
    {
     "name": "stdout",
     "output_type": "stream",
     "text": [
      "['game', 'good', 'like', 'fun', 'play', 'time', 'love', 'just', 'great', 'really', 'nice', 'fix', 'good game', 'make', 'don', 'playing', 'love game', 'need', 'graphics', 'new', 'update', 'stars', 'great game', 'games', 'ok', 'way', 'level', 'money', 'better', 'hard', 'cool', 'energy', 'want', 'ads', 'like game', 'think', 'free', 'awesome', 'long', 'add', 'buy', 'problem', 'nice game', 'lot', 'got', 'little', 'addictive', 'wish', 'far', 'takes', 'bad', 'app', 'story', 'thing', 'pretty', 'work', 'fun game', 'keeps', 'things', 've', 'bit', 'phone', 'start', 'help', 'know', 'people', 'levels', 'won', 'let', 'played', 'use', 'pay', 'needs', 'try', 'easy', 'doesn', 'screen', 'best', 'getting', 'times', 'enjoy', 'able', 'wait', 'cute', 'open', 'boring', 'having', 'didn', 'controls', 'plz', 'game play', 'amazing', 'annoying', 'episode', 'friends', 'going', 'star', 'play game', 'episodes', 'll']\n"
     ]
    }
   ],
   "source": [
    "indices = np.argsort(vect.idf_)[::1]\n",
    "btm_n24 = 100\n",
    "btm_features24 = [features[i] for i in indices[:btm_n24]]\n",
    "print(btm_features24)"
   ]
  },
  {
   "cell_type": "code",
   "execution_count": 112,
   "metadata": {},
   "outputs": [
    {
     "data": {
      "text/plain": [
       "(279261, 17223)"
      ]
     },
     "execution_count": 112,
     "metadata": {},
     "output_type": "execute_result"
    }
   ],
   "source": [
    "dtm15 = vect.fit_transform(x15)\n",
    "dtm15.shape"
   ]
  },
  {
   "cell_type": "code",
   "execution_count": 113,
   "metadata": {},
   "outputs": [
    {
     "data": {
      "text/plain": [
       "17223"
      ]
     },
     "execution_count": 113,
     "metadata": {},
     "output_type": "execute_result"
    }
   ],
   "source": [
    "features = vect.get_feature_names()\n",
    "len(features)"
   ]
  },
  {
   "cell_type": "markdown",
   "metadata": {},
   "source": [
    "## Top weighted 100 words in 1&5 stars review"
   ]
  },
  {
   "cell_type": "code",
   "execution_count": 114,
   "metadata": {},
   "outputs": [
    {
     "name": "stdout",
     "output_type": "stream",
     "text": [
      "['just gave', 'radar', 'flowing', 'struggling', 'unacceptable', 'mincraft story', 'pegi', 'fluent', 'peice', 'love fight', 'connection issues', 'quits', 'easy eyes', 'easy easy', 'connection says', 'love fame', 'understood', 'unexpectedly', 'unfortunate', 'nostalgic game', 'strategies', 'mind occupied', 'stranger thing', 'mind paying', 'awfully', 'stuck chapter', 'going different', 'j5', 'umbras', 'payments', 'flappy bird', 'bad actually', 'isn opening', 'easy kill', 'game sucked', 'going best', 'stuff fun', 'love girl', 'love ghost', 'easy interesting', 'issue resolved', 'babys', 'baby girl', 'issue ve', 'happen game', 'middle playing', 'aye', 'ultimate game', 'ultimately', 'mighty', 'mild', 'uma', 'fooled', 'quicker love', 'good balance', 'quality games', 'storyline best', 'minecraft good', 'ji', 'easier level', 'easier gems', 'jj', 'forgetting', 'people doing', 'easier earn', 'earthbound', 'story time', 'update best', 'pvp game', 'update bit', 'forgive', 'update change', 'content game', 'join server', 'update days', 'update didn', 'game sit', 'going level', 'awesome lol', 'unstall', 'forever just', 'foolish', 'said good', 'jail break', 'awesomee', 'quick game', 'awesome words', 'unique love', 'awesome wonderful', 'easy beat', 'jay', 'love design', 'quests complete', 'going fast', 'sad play', 'unless willing', 'minded game', 'mindless fun', 'love crab', 'game size']\n"
     ]
    }
   ],
   "source": [
    "import numpy as np\n",
    "indices = np.argsort(vect.idf_)[::-1]\n",
    "top_n15 = 100\n",
    "top_features15 = [features[i] for i in indices[:top_n15]]\n",
    "print(top_features15)"
   ]
  },
  {
   "cell_type": "code",
   "execution_count": 115,
   "metadata": {},
   "outputs": [
    {
     "name": "stdout",
     "output_type": "stream",
     "text": [
      "<wordcloud.wordcloud.WordCloud object at 0x000002E3A8797550>\n"
     ]
    },
    {
     "data": {
      "image/png": "[encoded data removed]",
      "text/plain": [
       "<matplotlib.figure.Figure at 0x2e3b0853080>"
      ]
     },
     "metadata": {},
     "output_type": "display_data"
    }
   ],
   "source": [
    "mpl.rcParams['figure.figsize']=(8.0,6.0)    #(6.0,4.0)\n",
    "mpl.rcParams['font.size']=12                #10 \n",
    "mpl.rcParams['savefig.dpi']=100             #72 \n",
    "mpl.rcParams['figure.subplot.bottom']=.1 \n",
    "\n",
    "\n",
    "stopwords = set(STOPWORDS)\n",
    "data1 = top_features15\n",
    "\n",
    "wordcloud = WordCloud(\n",
    "                          background_color='white',\n",
    "                          #stopwords=stopwords,\n",
    "                          max_words=200,\n",
    "                          max_font_size=40, \n",
    "                          random_state=42\n",
    "                         ).generate(str(data1))\n",
    "\n",
    "print(wordcloud)\n",
    "fig = plt.figure(1)\n",
    "plt.imshow(wordcloud)\n",
    "plt.axis('off')\n",
    "plt.show()\n",
    "fig.savefig(\"word1.png\", dpi=900)"
   ]
  },
  {
   "cell_type": "markdown",
   "metadata": {},
   "source": [
    "## least weighted 100 words in 1&5 stars reviews"
   ]
  },
  {
   "cell_type": "code",
   "execution_count": 116,
   "metadata": {},
   "outputs": [
    {
     "name": "stdout",
     "output_type": "stream",
     "text": [
      "['just gave', 'radar', 'flowing', 'struggling', 'unacceptable', 'mincraft story', 'pegi', 'fluent', 'peice', 'love fight', 'connection issues', 'quits', 'easy eyes', 'easy easy', 'connection says', 'love fame', 'understood', 'unexpectedly', 'unfortunate', 'nostalgic game', 'strategies', 'mind occupied', 'stranger thing', 'mind paying', 'awfully', 'stuck chapter', 'going different', 'j5', 'umbras', 'payments', 'flappy bird', 'bad actually', 'isn opening', 'easy kill', 'game sucked', 'going best', 'stuff fun', 'love girl', 'love ghost', 'easy interesting', 'issue resolved', 'babys', 'baby girl', 'issue ve', 'happen game', 'middle playing', 'aye', 'ultimate game', 'ultimately', 'mighty', 'mild', 'uma', 'fooled', 'quicker love', 'good balance', 'quality games', 'storyline best', 'minecraft good', 'ji', 'easier level', 'easier gems', 'jj', 'forgetting', 'people doing', 'easier earn', 'earthbound', 'story time', 'update best', 'pvp game', 'update bit', 'forgive', 'update change', 'content game', 'join server', 'update days', 'update didn', 'game sit', 'going level', 'awesome lol', 'unstall', 'forever just', 'foolish', 'said good', 'jail break', 'awesomee', 'quick game', 'awesome words', 'unique love', 'awesome wonderful', 'easy beat', 'jay', 'love design', 'quests complete', 'going fast', 'sad play', 'unless willing', 'minded game', 'mindless fun', 'love crab', 'game size']\n"
     ]
    }
   ],
   "source": [
    "indices = np.argsort(vect.idf_)[::1]\n",
    "btm_n15 = 50\n",
    "btm_features15 = [features[i] for i in indices[:top_n15]]\n",
    "print(top_features15)"
   ]
  },
  {
   "cell_type": "code",
   "execution_count": null,
   "metadata": {
    "collapsed": true
   },
   "outputs": [],
   "source": []
  },
  {
   "cell_type": "code",
   "execution_count": null,
   "metadata": {
    "collapsed": true
   },
   "outputs": [],
   "source": []
  }
 ],
 "metadata": {
  "kernelspec": {
   "display_name": "Python 3",
   "language": "python",
   "name": "python3"
  },
  "language_info": {
   "codemirror_mode": {
    "name": "ipython",
    "version": 3
   },
   "file_extension": ".py",
   "mimetype": "text/x-python",
   "name": "python",
   "nbconvert_exporter": "python",
   "pygments_lexer": "ipython3",
   "version": "3.6.3"
  }
 },
 "nbformat": 4,
 "nbformat_minor": 2
}
